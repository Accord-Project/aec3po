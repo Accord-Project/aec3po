{
  "nbformat": 4,
  "nbformat_minor": 0,
  "metadata": {
    "colab": {
      "provenance": [],
      "toc_visible": true
    },
    "kernelspec": {
      "name": "python3",
      "display_name": "Python 3"
    },
    "language_info": {
      "name": "python"
    }
  },
  "cells": [
    {
      "cell_type": "code",
      "execution_count": 1,
      "metadata": {
        "colab": {
          "base_uri": "https://localhost:8080/"
        },
        "id": "UMfAEtYScBkI",
        "outputId": "43a28182-8474-4a94-d929-a43c89153fee"
      },
      "outputs": [
        {
          "output_type": "stream",
          "name": "stdout",
          "text": [
            "Requirement already satisfied: pandas in /usr/local/lib/python3.10/dist-packages (1.5.3)\n",
            "Collecting rdflib\n",
            "  Downloading rdflib-7.0.0-py3-none-any.whl (531 kB)\n",
            "\u001b[2K     \u001b[90m━━━━━━━━━━━━━━━━━━━━━━━━━━━━━━━━━━━━━━━━\u001b[0m \u001b[32m531.9/531.9 kB\u001b[0m \u001b[31m7.9 MB/s\u001b[0m eta \u001b[36m0:00:00\u001b[0m\n",
            "\u001b[?25hRequirement already satisfied: python-dateutil>=2.8.1 in /usr/local/lib/python3.10/dist-packages (from pandas) (2.8.2)\n",
            "Requirement already satisfied: pytz>=2020.1 in /usr/local/lib/python3.10/dist-packages (from pandas) (2023.3.post1)\n",
            "Requirement already satisfied: numpy>=1.21.0 in /usr/local/lib/python3.10/dist-packages (from pandas) (1.23.5)\n",
            "Collecting isodate<0.7.0,>=0.6.0 (from rdflib)\n",
            "  Downloading isodate-0.6.1-py2.py3-none-any.whl (41 kB)\n",
            "\u001b[2K     \u001b[90m━━━━━━━━━━━━━━━━━━━━━━━━━━━━━━━━━━━━━━━━\u001b[0m \u001b[32m41.7/41.7 kB\u001b[0m \u001b[31m5.6 MB/s\u001b[0m eta \u001b[36m0:00:00\u001b[0m\n",
            "\u001b[?25hRequirement already satisfied: pyparsing<4,>=2.1.0 in /usr/local/lib/python3.10/dist-packages (from rdflib) (3.1.1)\n",
            "Requirement already satisfied: six in /usr/local/lib/python3.10/dist-packages (from isodate<0.7.0,>=0.6.0->rdflib) (1.16.0)\n",
            "Installing collected packages: isodate, rdflib\n",
            "Successfully installed isodate-0.6.1 rdflib-7.0.0\n"
          ]
        }
      ],
      "source": [
        "!pip install pandas rdflib\n"
      ]
    },
    {
      "cell_type": "code",
      "source": [
        "import pandas as pd\n",
        "from rdflib import Graph, Namespace, RDF, URIRef, Literal, DCTERMS\n",
        "\n",
        "# Read CSV file\n",
        "csv_file_path = '/content/ES_DictionaryOfTerms.csv'  # Replace with the path to your CSV file\n",
        "df = pd.read_csv(csv_file_path)\n",
        "\n",
        "# Define Namespace for the ontology with the correct URI using the prefix\n",
        "aec3po = Namespace(\"https://w3id.org/lbd/aec3po/\")\n",
        "\n",
        "# Create an RDF graph\n",
        "graph = Graph()\n",
        "\n",
        "# Assuming you want to use the first column (index 0) for ACCORDTerm instances\n",
        "for index, row in df.iterrows():\n",
        "    # Get data from the first column (index 0)\n",
        "    accord_term_data = str(row.iloc[0])\n",
        "\n",
        "    # Replace spaces with underscores\n",
        "    accord_term_data = accord_term_data.replace(' ', '_')\n",
        "\n",
        "    # Create URIRef for ACCORDTerm instance\n",
        "    accord_term_instance = URIRef(aec3po[accord_term_data])\n",
        "\n",
        "    # Add triples to the graph\n",
        "    graph.add((accord_term_instance, RDF.type, aec3po.ACCORDTerm))\n",
        "\n",
        "    # Add dct:coverage property with value aec3po:Finland\n",
        "    graph.add((accord_term_instance, DCTERMS.coverage, aec3po.Estonia))\n",
        "\n",
        "    # You can add more triples as needed based on your ontology\n",
        "\n",
        "# Save the RDF graph as a Turtle file\n",
        "turtle_file_path = 'ES.ttl'\n",
        "graph.serialize(destination=turtle_file_path, format='turtle')\n",
        "\n",
        "print(f'Turtle file generated: {turtle_file_path}')\n"
      ],
      "metadata": {
        "colab": {
          "base_uri": "https://localhost:8080/"
        },
        "id": "I4BOGbhpcjYQ",
        "outputId": "936f1af8-13d3-433f-c43c-89e7f9509346"
      },
      "execution_count": 9,
      "outputs": [
        {
          "output_type": "stream",
          "name": "stdout",
          "text": [
            "Turtle file generated: ES.ttl\n"
          ]
        }
      ]
    }
  ]
}